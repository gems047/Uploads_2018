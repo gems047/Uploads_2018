{
 "cells": [
  {
   "cell_type": "code",
   "execution_count": null,
   "metadata": {},
   "outputs": [],
   "source": [
    "import numpy as np\n",
    "import matplotlib.pyplot as plt\n",
    "import math\n"
   ]
  },
  {
   "cell_type": "markdown",
   "metadata": {},
   "source": [
    "Logistic Regression - Non Convex"
   ]
  },
  {
   "cell_type": "code",
   "execution_count": null,
   "metadata": {},
   "outputs": [],
   "source": [
    "#error = Sum(yi - g(w*xi))^2 , take w = w1, so W^T*X = w1*xi\n",
    "\n",
    "w=[-5,-4,-3,-2,-1,0,1,2,3,4,5,6,7,8,9,10]\n",
    "np.random.seed(10)\n",
    "X = (10-0)*np.random.random_sample(1000,)+0\n",
    "Y = np.random.choice([-1, 1], size=1000, p=[.5, .5])\n",
    "#print(Y)\n",
    "error = [0,0,0,0,0,0,0,0,0,0,0,0,0,0,0,0]\n",
    "\n",
    "def logistic(w, X , Y):\n",
    "    #global e\n",
    "    e=0\n",
    "    for i in range(0,1000):\n",
    "        e = e +(Y[i]- 1/(1+math.exp(-w*X[i])))**2\n",
    "    return e\n",
    "\n",
    "for j in range(0,16):\n",
    "    error[j] = logistic(w[j],X,Y)\n",
    "    #print(error[j],w[j])    \n",
    "\n",
    "plt.plot(w, error)       # line plot\n",
    "plt.title('Logistic Regression')\n",
    "plt.xlabel('w')\n",
    "plt.ylabel('error')\n",
    "plt.show()    "
   ]
  },
  {
   "cell_type": "markdown",
   "metadata": {},
   "source": [
    "Linear Regression - Convex"
   ]
  },
  {
   "cell_type": "code",
   "execution_count": null,
   "metadata": {},
   "outputs": [],
   "source": [
    "wl=[-5,-4,-3,-2,-1,0,1,2,3,4,5,6,7,8,9,10]\n",
    "np.random.seed(10)\n",
    "Xl = (10-0)*np.random.random_sample(1000,)+0\n",
    "Yl = np.random.choice([-1, 1], size=1000, p=[.5, .5])\n",
    "#print(Yl)\n",
    "errorl = [0,0,0,0,0,0,0,0,0,0,0,0,0,0,0,0]\n",
    "\n",
    "def linear(w, X , Y):\n",
    "    #global e\n",
    "    e=0\n",
    "    for i in range(0,1000):\n",
    "        e = e + ( Y[i]-w*X[i])**2\n",
    "    return e\n",
    "\n",
    "for j in range(0,10):\n",
    "    errorl[j] = linear(wl[j],Xl,Yl)\n",
    "    #errorl[j] = error[j]/100000\n",
    "    #print(errorl[j],w[j])    \n",
    "\n",
    "\n",
    "plt.plot(wl, errorl)       # line plot\n",
    "plt.xlim(-4,4)\n",
    "plt.title('Linear Regression')\n",
    "plt.xlabel('w')\n",
    "plt.ylabel('error')\n",
    "plt.show()    "
   ]
  }
 ],
 "metadata": {
  "kernelspec": {
   "display_name": "Python 3",
   "language": "python",
   "name": "python3"
  },
  "language_info": {
   "codemirror_mode": {
    "name": "ipython",
    "version": 3
   },
   "file_extension": ".py",
   "mimetype": "text/x-python",
   "name": "python",
   "nbconvert_exporter": "python",
   "pygments_lexer": "ipython3",
   "version": "3.6.5"
  }
 },
 "nbformat": 4,
 "nbformat_minor": 2
}
