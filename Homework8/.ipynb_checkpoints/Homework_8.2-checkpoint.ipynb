{
 "cells": [
  {
   "cell_type": "code",
   "execution_count": 4,
   "metadata": {},
   "outputs": [],
   "source": [
    "import numpy as np\n",
    "import matplotlib.pyplot as plt\n",
    "import math"
   ]
  },
  {
   "cell_type": "code",
   "execution_count": 60,
   "metadata": {},
   "outputs": [
    {
     "name": "stdout",
     "output_type": "stream",
     "text": [
      "[[1.  0. ]\n",
      " [0.  0.1]] \n",
      " [[1.   0.  ]\n",
      " [0.   0.05]]\n",
      "10.000000000000002 \n",
      " 19.999999999999996\n"
     ]
    }
   ],
   "source": [
    "\n",
    "mean1 = [1, 1]\n",
    "cov1 = [[1, 0], [0, 10]] \n",
    "mean2 = [2,2]\n",
    "cov2 = [[1,0],[0,20]]\n",
    "\n",
    "# mean1 = [1, 1]\n",
    "# cov1 = [[1, 0], [0, 1]] \n",
    "# mean2 = [3,3]\n",
    "# cov2 = [[1,0],[0,2]]\n",
    "\n",
    "\n",
    "\n",
    "cov1inv = np.linalg.inv(cov1) \n",
    "\n",
    "cov2inv = np.linalg.inv(cov2)\n",
    "print(cov1inv ,'\\n', cov2inv)\n",
    "\n",
    "W1 = -0.5*cov1inv\n",
    "W2 = -0.5*cov2inv\n",
    "\n",
    "det_cov1 = np.linalg.det(cov1)\n",
    "det_cov2 = np.linalg.det(cov2)\n",
    "print(det_cov1 ,'\\n', det_cov2)\n",
    "\n",
    "log_det_cov1 =  2.3#natural logarithm\n",
    "log_det_cov2 =  3.0\n",
    "\n",
    "# log_det_cov1 =  0 #natural logarithm\n",
    "# log_det_cov2 =  0.693\n",
    "\n"
   ]
  },
  {
   "cell_type": "code",
   "execution_count": 59,
   "metadata": {},
   "outputs": [
    {
     "name": "stdout",
     "output_type": "stream",
     "text": [
      "50 \t 50\n",
      "(50, 50)\n"
     ]
    },
    {
     "data": {
      "text/plain": [
       "<matplotlib.contour.QuadContourSet at 0x7f79e24d1668>"
      ]
     },
     "execution_count": 59,
     "metadata": {},
     "output_type": "execute_result"
    },
    {
     "data": {
      "image/png": "[encoded data removed]",
      "text/plain": [
       "<Figure size 432x288 with 1 Axes>"
      ]
     },
     "metadata": {},
     "output_type": "display_data"
    }
   ],
   "source": [
    "X1 = np.linspace(0, 10, 50, endpoint=True)\n",
    "X2 = np.linspace(0, 10, 50, endpoint=False)\n",
    "#print(X1, '\\t', X2)\n",
    "print(len(X1), '\\t', len(X2))\n",
    "#g = -0.025*(x2**2) -x1 + 1.9 , obtained from mean and covariance used above and using the values in equation of gi(x) in Duda Hart\n",
    "\n",
    "sampleA = np.random.multivariate_normal(mean1,cov1,50)\n",
    "\n",
    "sampleB = np.random.multivariate_normal(mean2,cov2,50)\n",
    "def getg(x1,x2):\n",
    "    g = -0.025*(x2**2) - x1 + 1.9\n",
    "    #g = -0.25*(x2**2) - 2*x1 - 0.5*x2 - 6 \n",
    "    return g\n",
    "\n",
    "G = np.zeros((50,50))\n",
    "\n",
    "for i in range(0,len(X1)):\n",
    "    for j in range(0,len(X2)):\n",
    "        G[i,j] = getg(X1[i],X2[j])\n",
    "\n",
    "#print(G)\n",
    "print(G.shape)\n",
    "# combinedX = np.vstack((X1, X2))\n",
    "        \n",
    "for i in range(0,50):\n",
    "    plt.scatter(sampleA[:,0],sampleA[:,1],c = \"m\")\n",
    "    plt.scatter(sampleB[:,0],sampleB[:,1],c = \"c\")\n",
    "        \n",
    "plt.contour(X1,X2, G, 0)"
   ]
  },
  {
   "cell_type": "markdown",
   "metadata": {},
   "source": [
    "Using different values of mean and covarinace and using equation for gi(x) from Duda Hart ,we can better classifier "
   ]
  }
 ],
 "metadata": {
  "kernelspec": {
   "display_name": "Python 3",
   "language": "python",
   "name": "python3"
  },
  "language_info": {
   "codemirror_mode": {
    "name": "ipython",
    "version": 3
   },
   "file_extension": ".py",
   "mimetype": "text/x-python",
   "name": "python",
   "nbconvert_exporter": "python",
   "pygments_lexer": "ipython3",
   "version": "3.6.5"
  }
 },
 "nbformat": 4,
 "nbformat_minor": 2
}
