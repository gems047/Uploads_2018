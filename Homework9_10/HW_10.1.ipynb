{
 "cells": [
  {
   "cell_type": "code",
   "execution_count": null,
   "metadata": {},
   "outputs": [],
   "source": [
    "#%matplotlib inline\n",
    "import numpy as np\n",
    "import matplotlib.pyplot as plt\n",
    "from sklearn.preprocessing import StandardScaler\n",
    "from sklearn.decomposition import PCA\n",
    "#import seaborn as sns; sns.set()"
   ]
  },
  {
   "cell_type": "code",
   "execution_count": null,
   "metadata": {},
   "outputs": [],
   "source": [
    "rng = np.random.RandomState(1)\n",
    "#X = np.dot(rng.rand(2, 2), rng.randn(2, 200)).T\n",
    "X = np.array([[1, 2], [2, 3], [3, 4], [-1, 0], [-2, -1], [-3, -2]])\n",
    "\n",
    "# plt.scatter(X[:, 0], X[:, 1])\n",
    "# plt.axis('equal');\n",
    "\n",
    "scaler = StandardScaler()\n",
    "scaler.fit(X)\n",
    "X_scaled = scaler.transform(X)\n",
    "#print(X)\n",
    "plt.scatter(X_scaled[:, 0], X_scaled[:, 1])\n",
    "plt.axis('equal');"
   ]
  },
  {
   "cell_type": "code",
   "execution_count": null,
   "metadata": {},
   "outputs": [],
   "source": [
    "print(X[: ,0])"
   ]
  },
  {
   "cell_type": "code",
   "execution_count": null,
   "metadata": {},
   "outputs": [],
   "source": [
    "\n",
    "pca2 = PCA(n_components=2)\n",
    "#pca.fit(X)\n",
    "pca2.fit(X_scaled)\n",
    "# transform data onto the first two principal components\n",
    "X_pca2 = pca2.transform(X_scaled)\n",
    "print(\"Original shape: {}\".format(str(X_scaled.shape)))\n",
    "print(\"Reduced shape: {}\".format(str(X_pca2.shape)))"
   ]
  },
  {
   "cell_type": "code",
   "execution_count": 19,
   "metadata": {},
   "outputs": [
    {
     "name": "stdout",
     "output_type": "stream",
     "text": [
      "[[ 0.70710678  0.70710678]\n",
      " [ 0.70710678 -0.70710678]]\n"
     ]
    }
   ],
   "source": [
    "print(pca2.components_)"
   ]
  },
  {
   "cell_type": "code",
   "execution_count": 20,
   "metadata": {},
   "outputs": [
    {
     "name": "stdout",
     "output_type": "stream",
     "text": [
      "[2.40000000e+00 2.46519033e-33]\n"
     ]
    }
   ],
   "source": [
    "print(pca2.explained_variance_)"
   ]
  },
  {
   "cell_type": "code",
   "execution_count": null,
   "metadata": {},
   "outputs": [],
   "source": [
    "def draw_vector(v0, v1, ax=None):\n",
    "    ax = ax or plt.gca()\n",
    "    arrowprops=dict(arrowstyle='->',\n",
    "                    linewidth=2,\n",
    "                    shrinkA=0, shrinkB=0)\n",
    "    ax.annotate('', v1, v0, arrowprops=arrowprops)\n",
    "\n",
    "# plot data\n",
    "plt.scatter(X[:, 0], X[:, 1], alpha=1)\n",
    "for length, vector in zip(pca2.explained_variance_, pca2.components_):\n",
    "    v = vector * 3 * np.sqrt(length)\n",
    "    draw_vector(pca2.mean_, pca2.mean_ + v)\n",
    "plt.axis('equal');\n",
    "plt.title('Direction of Principal Component on original data')"
   ]
  },
  {
   "cell_type": "code",
   "execution_count": null,
   "metadata": {},
   "outputs": [],
   "source": [
    "pca = PCA(n_components=1)\n",
    "pca.fit(X_scaled)\n",
    "X_pca = pca.transform(X_scaled)\n",
    "print(\"original shape:   \", X_scaled.shape)\n",
    "print(\"transformed shape:\", X_pca.shape)\n",
    "#print(X_pca)"
   ]
  },
  {
   "cell_type": "markdown",
   "metadata": {},
   "source": [
    "# Plot of reduced data along with original data"
   ]
  },
  {
   "cell_type": "code",
   "execution_count": null,
   "metadata": {},
   "outputs": [],
   "source": [
    "X_new = pca.inverse_transform(X_pca)\n",
    "plt.scatter(X[:, 0], X[:, 1], alpha=0.4 , marker = 'x' , label = 'Original data')\n",
    "plt.scatter(X_new[:, 0], X_new[:, 1], alpha=0.5 , marker = 'o',  label = 'Reduced data')\n",
    "plt.axis('equal');\n",
    "plt.title('Plot of reduced data(after PCA) along with original data')\n",
    "\n",
    "plt.legend(loc='upper right', numpoints=1, ncol=2, fontsize=8, bbox_to_anchor=(0, 0))"
   ]
  },
  {
   "cell_type": "markdown",
   "metadata": {},
   "source": [
    "Classification Rule\n",
    "\n",
    "Let P(y=1|x) be the probability that value x > 0\n",
    "    P(y=0|x) be the probability that value x < 0\n",
    "    \n",
    "Let z = wx+b\n",
    "    \n",
    "    y = g(z) = 1/(1+e^-z) \n",
    "    P(y=1) = g(z) = 1/(1+e^-z) = 1/(1+e^-(wx+b)\n",
    "    P(y=0) = 1 - g(z) = 1 - 1/(1+e^-z) = e^-z/(1+e^-z) = e^-(wx+b)/(1+e^-(wx+b))\n",
    "    \n",
    "Given x we can now compute probability P(y=1|x)\n",
    "\n",
    "If P(y=1|x) > 0.5 , then class label = 1 else class label = 0    \n",
    "   "
   ]
  },
  {
   "cell_type": "code",
   "execution_count": null,
   "metadata": {},
   "outputs": [],
   "source": []
  }
 ],
 "metadata": {
  "kernelspec": {
   "display_name": "Python 3",
   "language": "python",
   "name": "python3"
  },
  "language_info": {
   "codemirror_mode": {
    "name": "ipython",
    "version": 3
   },
   "file_extension": ".py",
   "mimetype": "text/x-python",
   "name": "python",
   "nbconvert_exporter": "python",
   "pygments_lexer": "ipython3",
   "version": "3.6.5"
  }
 },
 "nbformat": 4,
 "nbformat_minor": 2
}
