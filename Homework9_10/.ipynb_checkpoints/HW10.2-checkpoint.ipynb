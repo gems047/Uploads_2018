{
 "cells": [
  {
   "cell_type": "code",
   "execution_count": 1,
   "metadata": {},
   "outputs": [],
   "source": [
    "import numpy as np\n",
    "import matplotlib.pyplot as plt"
   ]
  },
  {
   "cell_type": "code",
   "execution_count": 31,
   "metadata": {},
   "outputs": [
    {
     "name": "stdout",
     "output_type": "stream",
     "text": [
      "mean1 4.5 \n",
      " mean2 10.0\n",
      "[-4.5 -3.5 -2.5 -1.5 -0.5  0.5  1.5  2.5  3.5  4.5] [-9. -7. -5. -3. -1.  1.  3.  5.  7.  9.]\n",
      "[[-4.5 -9. ]\n",
      " [-3.5 -7. ]\n",
      " [-2.5 -5. ]\n",
      " [-1.5 -3. ]\n",
      " [-0.5 -1. ]\n",
      " [ 0.5  1. ]\n",
      " [ 1.5  3. ]\n",
      " [ 2.5  5. ]\n",
      " [ 3.5  7. ]\n",
      " [ 4.5  9. ]]\n",
      "[[-4.5 -3.5 -2.5 -1.5 -0.5  0.5  1.5  2.5  3.5  4.5]\n",
      " [-9.  -7.  -5.  -3.  -1.   1.   3.   5.   7.   9. ]]\n",
      "[[ 82.5 165. ]\n",
      " [165.  330. ]]\n"
     ]
    }
   ],
   "source": [
    "X1 =np.linspace(0,10, 10, endpoint = False) \n",
    "#print(X1)\n",
    "\n",
    "y_value = np.zeros(10)\n",
    "\n",
    "def gXetX2_values(X):\n",
    "    for i in range(0,len(X)):\n",
    "        y_value[i] = 2*i + 1 # x2 = m*x1+x\n",
    "    return y_value\n",
    "\n",
    "X2 = gXetX2_values(X1)\n",
    "\n",
    "#print(X2)\n",
    "\n",
    "CombinedX1_X2 = np.vstack((X1, X2)).T\n",
    "#print(CombinedX1_X2)\n",
    "\n",
    "meanx1 = np.mean(X1)\n",
    "meanx2 = np.mean(X2)\n",
    "\n",
    "print('mean1' , meanx1 , '\\n', 'mean2' , meanx2 )\n",
    "\n",
    "x1_c = np.zeros(10)\n",
    "x2_c = np.zeros(10)\n",
    "\n",
    "\n",
    "def getX_centered(X1,X2):\n",
    "    for i in range(0,len(X)):\n",
    "        x1_c[i] = X1[i] - meanx1\n",
    "        x2_c[i] = X2[i] - meanx2\n",
    "    return x1_c, x2_c\n",
    "\n",
    "x1_c , x2_c = getX_centered(X1,X2)\n",
    "print(x1_c , x2_c)\n",
    "\n",
    "CombinedX1_X2_Centered = np.vstack((x1_c, x2_c)).T\n",
    "print(CombinedX1_X2_Centered)\n",
    "\n",
    "cov = np.zeros((2,2))\n",
    "\n",
    "print(CombinedX1_X2_Centered.T)\n",
    "\n",
    "cov = np.dot(CombinedX1_X2_Centered.T,CombinedX1_X2_Centered)\n",
    "\n",
    "print(cov)\n",
    "    \n",
    "  \n",
    "    \n",
    "\n"
   ]
  },
  {
   "cell_type": "markdown",
   "metadata": {},
   "source": [
    "# Rank Deficiency of Covariance Matrix"
   ]
  },
  {
   "cell_type": "markdown",
   "metadata": {},
   "source": [
    "cov matrix above has only one independent row. If we multply 1st row by 2 we get 165 and 330 which are elements of second row.Thus the rank of 2 by 2 covarinace matrix is 1. Which means it is rank deficient."
   ]
  }
 ],
 "metadata": {
  "kernelspec": {
   "display_name": "Python 3",
   "language": "python",
   "name": "python3"
  },
  "language_info": {
   "codemirror_mode": {
    "name": "ipython",
    "version": 3
   },
   "file_extension": ".py",
   "mimetype": "text/x-python",
   "name": "python",
   "nbconvert_exporter": "python",
   "pygments_lexer": "ipython3",
   "version": "3.6.5"
  }
 },
 "nbformat": 4,
 "nbformat_minor": 2
}
