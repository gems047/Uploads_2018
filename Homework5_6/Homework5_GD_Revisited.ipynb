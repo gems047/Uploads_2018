{
 "cells": [
  {
   "cell_type": "code",
   "execution_count": 2,
   "metadata": {},
   "outputs": [],
   "source": [
    "import matplotlib.pyplot as plt\n",
    "import numpy as np\n",
    "import math"
   ]
  },
  {
   "cell_type": "code",
   "execution_count": 3,
   "metadata": {},
   "outputs": [],
   "source": [
    "#f(x) = x**2\n",
    "def derivative_of_fun(x):\n",
    "    derv = 2*x\n",
    "    return derv\n",
    "\n",
    "\n",
    "def update_xvalue(x, lr):\n",
    "    '''\n",
    "    Vectorized Gradient Descent\n",
    "\n",
    "    Features:(200, 3)\n",
    "    Labels: (200, 1)\n",
    "    Weights:(3, 1)\n",
    "    '''\n",
    "    #new_x = x\n",
    "    \n",
    "    #gradient = first derivative of f(x) = x**2\n",
    "    d = derivative_of_fun(x)\n",
    "\n",
    "    #4 - Multiply the gradient by our learning rate\n",
    "    gradient = lr*d\n",
    "\n",
    "    #5 - Subtract from currrent x value\n",
    "    new_x = x - gradient\n",
    "\n",
    "    return new_x"
   ]
  },
  {
   "cell_type": "code",
   "execution_count": 11,
   "metadata": {},
   "outputs": [],
   "source": [
    "\n",
    "def execute_gradient(x, lr):\n",
    "    itr = 0\n",
    "    x_updated = x\n",
    "    while(True):\n",
    "        itr = itr + 1\n",
    "        x_current = x_updated\n",
    "        if itr < 6:\n",
    "            print(x_current)\n",
    "        x_updated = update_xvalue(x_current ,lr)\n",
    "        \n",
    "        if(np.allclose(x_current,x_updated)): #Until its previous version and current version are not close, we iterate\n",
    "            break\n",
    "            \n",
    "    return x_updated,itr\n",
    "    "
   ]
  },
  {
   "cell_type": "code",
   "execution_count": 12,
   "metadata": {},
   "outputs": [
    {
     "name": "stdout",
     "output_type": "stream",
     "text": [
      "-2.0\n",
      "-1.6\n",
      "-1.28\n",
      "-1.024\n",
      "-0.8192\n",
      "Convergence Criteria, Iterations :  -3.5336941295567705e-08 , 80\n"
     ]
    }
   ],
   "source": [
    "x_in = float(-2)\n",
    "out_x , n_iter = execute_gradient(x_in,0.1)\n",
    "print('Convergence Criteria, Iterations : ', out_x ,',', n_iter)"
   ]
  }
 ],
 "metadata": {
  "kernelspec": {
   "display_name": "Python 3",
   "language": "python",
   "name": "python3"
  },
  "language_info": {
   "codemirror_mode": {
    "name": "ipython",
    "version": 3
   },
   "file_extension": ".py",
   "mimetype": "text/x-python",
   "name": "python",
   "nbconvert_exporter": "python",
   "pygments_lexer": "ipython3",
   "version": "3.6.5"
  }
 },
 "nbformat": 4,
 "nbformat_minor": 2
}
