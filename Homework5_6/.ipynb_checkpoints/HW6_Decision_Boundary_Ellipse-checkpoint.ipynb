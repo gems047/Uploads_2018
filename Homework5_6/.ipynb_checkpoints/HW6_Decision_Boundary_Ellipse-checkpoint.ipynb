{
 "cells": [
  {
   "cell_type": "code",
   "execution_count": 4,
   "metadata": {},
   "outputs": [],
   "source": [
    "import numpy as np\n",
    "import matplotlib.pyplot as plt\n",
    "\n",
    "import math"
   ]
  },
  {
   "cell_type": "code",
   "execution_count": 10,
   "metadata": {},
   "outputs": [
    {
     "name": "stdout",
     "output_type": "stream",
     "text": [
      "Covariance Inverse [[1. 0.]\n",
      " [0. 1.]] \n",
      " [[0.01 0.  ]\n",
      " [0.   0.01]]\n",
      "Covariance Determinant 1.0 \n",
      " 10000.00000000001\n"
     ]
    }
   ],
   "source": [
    "mean1 = [2, 2]\n",
    "cov1 = [[1, 0], [0, 1]] \n",
    "mean2 = [2,2]\n",
    "cov2 = [[100,0],[0,100]]\n",
    "\n",
    "cov1inv = np.linalg.inv(cov1) \n",
    "cov2inv = np.linalg.inv(cov2)\n",
    "print('Covariance Inverse', cov1inv ,'\\n',  cov2inv)\n",
    "\n",
    "W1 = -0.5*cov1inv\n",
    "W2 = -0.5*cov2inv\n",
    "\n",
    "det_cov1 = np.linalg.det(cov1)\n",
    "det_cov2 = np.linalg.det(cov2)\n",
    "print('Covariance Determinant', det_cov1 ,'\\n', det_cov2)\n"
   ]
  },
  {
   "cell_type": "code",
   "execution_count": 14,
   "metadata": {},
   "outputs": [
    {
     "name": "stdout",
     "output_type": "stream",
     "text": [
      "50 \t 50\n",
      "(50, 50)\n"
     ]
    },
    {
     "data": {
      "text/plain": [
       "<matplotlib.contour.QuadContourSet at 0x7f7814187c88>"
      ]
     },
     "execution_count": 14,
     "metadata": {},
     "output_type": "execute_result"
    },
    {
     "data": {
      "image/png": "[encoded data removed]",
      "text/plain": [
       "<Figure size 432x288 with 1 Axes>"
      ]
     },
     "metadata": {},
     "output_type": "display_data"
    }
   ],
   "source": [
    "X1 = np.linspace(0, 10, 50, endpoint=True)\n",
    "X2 = np.linspace(0, 10, 50, endpoint=False)\n",
    "#print(X1, '\\t', X2)\n",
    "print(len(X1), '\\t', len(X2))\n",
    "#g = -0.025*(x2**2) -x1 + 1.9 , obtained from mean and covariance used above and using the values in equation of gi(x) in Duda Hart\n",
    "\n",
    "sampleA = np.random.multivariate_normal(mean1,cov1,50)\n",
    "\n",
    "sampleB = np.random.multivariate_normal(mean2,cov2,50)\n",
    "#Function to get decision boundary values for a given x1 and x2\n",
    "def getg(x1,x2):\n",
    "    #g = 1.125*(x1**2) + 0.025*(x2**2) -0.025*x1*x2 + 3*x1 + 0.4*x2 - 0.5\n",
    "    g = -0.495*(x1**2) - 0.495*(x2**2) + 1.98*x1 +1.98*x2 +0.56\n",
    "    return g\n",
    "\n",
    "Z = np.zeros((50,50))#initialise decsion boundary\n",
    "\n",
    "\n",
    "for i in range(0,len(X1)):\n",
    "    for j in range(0,len(X2)):\n",
    "        Z[i,j] = getg(X1[i],X2[j])\n",
    "\n",
    "#print(G)\n",
    "print(Z.shape)\n",
    "# combinedX = np.vstack((X1, X2))\n",
    "        \n",
    "for i in range(0,50):\n",
    "    plt.scatter(sampleA[:,0],sampleA[:,1],c = \"m\")\n",
    "    plt.scatter(sampleB[:,0],sampleB[:,1],c = \"c\")\n",
    "        \n",
    "plt.title('Scatter Plot')        \n",
    "plt.contour(X1,X2, Z, 0)"
   ]
  },
  {
   "cell_type": "code",
   "execution_count": 16,
   "metadata": {},
   "outputs": [
    {
     "data": {
      "image/png": "[encoded data removed]",
      "text/plain": [
       "<Figure size 432x288 with 1 Axes>"
      ]
     },
     "metadata": {},
     "output_type": "display_data"
    }
   ],
   "source": [
    "import matplotlib\n",
    "from matplotlib import cm\n",
    "#matplotlib.style.use('default')\n",
    "\n",
    "X1A,X2A = np.meshgrid(X1,X2)\n",
    "#XA,XB = np.meshgrid(sampleA,sampleB)\n",
    "fig = plt.figure()\n",
    "ax = fig.add_subplot(111)\n",
    "\n",
    "ax.contour(X1A,X2A,Z, levels=[0])\n",
    "plt.show()"
   ]
  },
  {
   "cell_type": "code",
   "execution_count": null,
   "metadata": {},
   "outputs": [],
   "source": []
  }
 ],
 "metadata": {
  "kernelspec": {
   "display_name": "Python 3",
   "language": "python",
   "name": "python3"
  },
  "language_info": {
   "codemirror_mode": {
    "name": "ipython",
    "version": 3
   },
   "file_extension": ".py",
   "mimetype": "text/x-python",
   "name": "python",
   "nbconvert_exporter": "python",
   "pygments_lexer": "ipython3",
   "version": "3.6.5"
  }
 },
 "nbformat": 4,
 "nbformat_minor": 2
}
