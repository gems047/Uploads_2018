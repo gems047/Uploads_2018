{
 "cells": [
  {
   "cell_type": "code",
   "execution_count": 2,
   "metadata": {},
   "outputs": [],
   "source": [
    "import numpy as np\n",
    "import matplotlib.pyplot as plt\n",
    "\n",
    "import math"
   ]
  },
  {
   "cell_type": "code",
   "execution_count": 24,
   "metadata": {},
   "outputs": [
    {
     "name": "stdout",
     "output_type": "stream",
     "text": [
      "Covariance Determinant 1.0 \n",
      " 10000.00000000001\n",
      "-4.0 \n",
      " -4.64\n"
     ]
    }
   ],
   "source": [
    "mean1 = [2, 2]\n",
    "cov1 = [[1, 0], [0, 1]] \n",
    "mean2 = [2,2]\n",
    "cov2 = [[100,0],[0,100]]\n",
    "\n",
    "\n",
    "cov1inv = np.linalg.inv(cov1) \n",
    "cov2inv = np.linalg.inv(cov2)\n",
    "#print('Covariance Inverse', cov1inv ,'\\n',  cov2inv)\n",
    "\n",
    "\n",
    "det_cov1 = np.linalg.det(cov1)\n",
    "det_cov2 = np.linalg.det(cov2)\n",
    "#print('Covariance Determinant', det_cov1 ,'\\n', det_cov2)\n",
    "\n",
    "W1 = -0.5*cov1inv\n",
    "W2 = -0.5*cov2inv\n",
    "\n",
    "w1 = np.dot(cov1inv , mean1)\n",
    "w2 = np.dot(cov2inv , mean2)\n",
    "\n",
    "#print(w1 , '\\n' , w2)\n",
    "t1 = np.dot(mean1,cov1inv)\n",
    "t2 = np.dot(mean2,cov2inv)\n",
    "\n",
    "w10 = -0.5*np.dot(t1,mean1) - 0.5*0\n",
    "w20 = -0.5*np.dot(t2,mean2) - 0.5*9.2\n",
    "\n",
    "print(w10 , '\\n' , w20)\n",
    "\n",
    " "
   ]
  },
  {
   "cell_type": "code",
   "execution_count": null,
   "metadata": {},
   "outputs": [],
   "source": []
  }
 ],
 "metadata": {
  "kernelspec": {
   "display_name": "Python 3",
   "language": "python",
   "name": "python3"
  },
  "language_info": {
   "codemirror_mode": {
    "name": "ipython",
    "version": 3
   },
   "file_extension": ".py",
   "mimetype": "text/x-python",
   "name": "python",
   "nbconvert_exporter": "python",
   "pygments_lexer": "ipython3",
   "version": "3.6.5"
  }
 },
 "nbformat": 4,
 "nbformat_minor": 2
}
