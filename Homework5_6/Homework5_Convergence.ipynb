{
 "cells": [
  {
   "cell_type": "code",
   "execution_count": 12,
   "metadata": {},
   "outputs": [],
   "source": [
    "import matplotlib.pyplot as plt\n",
    "import numpy as np\n",
    "import math"
   ]
  },
  {
   "cell_type": "code",
   "execution_count": 13,
   "metadata": {},
   "outputs": [],
   "source": [
    "#f(x) = x**2\n",
    "def derivative_of_fun(x):\n",
    "    derv = 2*x\n",
    "    return derv\n",
    "\n",
    "\n",
    "def update_xvalue(x, lr):\n",
    "    '''\n",
    "    Vectorized Gradient Descent\n",
    "\n",
    "    Features:(200, 3)\n",
    "    Labels: (200, 1)\n",
    "    Weights:(3, 1)\n",
    "    '''\n",
    "    #new_x = x\n",
    "    \n",
    "    #gradient = first derivative of f(x) = x**2\n",
    "    d = derivative_of_fun(x)\n",
    "\n",
    "    #4 - Multiply the gradient by our learning rate\n",
    "    gradient = lr*d\n",
    "\n",
    "    #5 - Subtract from currrent x value\n",
    "    new_x = x - gradient\n",
    "\n",
    "    return new_x"
   ]
  },
  {
   "cell_type": "code",
   "execution_count": 29,
   "metadata": {},
   "outputs": [],
   "source": [
    "\n",
    "def execute_gradient(x, lr):\n",
    "    itr = 0\n",
    "    x_updated = x\n",
    "   \n",
    "    while(True):\n",
    "    #for i in range(0,itr):\n",
    "        itr = itr + 1\n",
    "        x_current = x_updated\n",
    "        #print(x_current)\n",
    "        x_updated = update_xvalue(x_current ,lr)\n",
    "        \n",
    "        if(itr == 31): #Until its previous version and current version are not close, we iterate\n",
    "            break\n",
    "        print(x_updated)  \n",
    "        \n",
    "    return x_updated\n",
    "\n",
    "def execute_gradient_for(x, lr,itr):\n",
    "   \n",
    "    x_updated = x\n",
    "    for i in range(0,itr):\n",
    "      \n",
    "        x_current = x_updated\n",
    "        #print(x_current)\n",
    "        x_updated = update_xvalue(x_current ,lr)\n",
    "        \n",
    "      \n",
    "        print(x_updated)  \n",
    "        \n",
    "    return x_updated\n",
    "    "
   ]
  },
  {
   "cell_type": "code",
   "execution_count": 43,
   "metadata": {},
   "outputs": [
    {
     "name": "stdout",
     "output_type": "stream",
     "text": [
      "0.3999999999999999\n",
      "-0.07999999999999996\n",
      "0.015999999999999986\n",
      "-0.003199999999999998\n",
      "0.0006399999999999995\n",
      "-0.00012799999999999986\n",
      "2.5599999999999972e-05\n",
      "-5.119999999999992e-06\n",
      "1.0239999999999982e-06\n",
      "-2.047999999999995e-07\n",
      "4.095999999999991e-08\n",
      "-8.191999999999978e-09\n",
      "1.6383999999999947e-09\n",
      "-3.27679999999999e-10\n",
      "6.553599999999977e-11\n",
      "-1.3107199999999954e-11\n",
      "2.621439999999991e-12\n",
      "-5.24287999999998e-13\n",
      "1.0485759999999954e-13\n",
      "-2.0971519999999914e-14\n",
      "4.1943039999999815e-15\n",
      "-8.388607999999963e-16\n",
      "1.6777215999999918e-16\n",
      "-3.355443199999983e-17\n",
      "6.7108863999999625e-18\n",
      "-1.3421772799999916e-18\n",
      "2.684354559999983e-19\n",
      "-5.3687091199999655e-20\n",
      "1.0737418239999929e-20\n",
      "-2.147483647999985e-21\n"
     ]
    }
   ],
   "source": [
    "#RUN only one while commenting other two from below to get the output\n",
    "x_in = float(-2)\n",
    "out_x  = execute_gradient(x_in,0.6)#oscillate\n",
    "out_x  = execute_gradient(x_in,1.5)#diverge\n",
    "out_x  = execute_gradient(x_in,0.1)#converge\n",
    "#print(out_x )"
   ]
  }
 ],
 "metadata": {
  "kernelspec": {
   "display_name": "Python 3",
   "language": "python",
   "name": "python3"
  },
  "language_info": {
   "codemirror_mode": {
    "name": "ipython",
    "version": 3
   },
   "file_extension": ".py",
   "mimetype": "text/x-python",
   "name": "python",
   "nbconvert_exporter": "python",
   "pygments_lexer": "ipython3",
   "version": "3.6.5"
  }
 },
 "nbformat": 4,
 "nbformat_minor": 2
}
